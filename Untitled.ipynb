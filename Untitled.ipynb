{
 "cells": [
  {
   "cell_type": "code",
   "execution_count": 1,
   "metadata": {},
   "outputs": [],
   "source": [
    "import numpy as np\n",
    "from sympy import *"
   ]
  },
  {
   "cell_type": "code",
   "execution_count": 2,
   "metadata": {},
   "outputs": [],
   "source": [
    "def calTi(acc, vi, d, tex):\n",
    "    vm = d/tex\n",
    "    if vm > vi:\n",
    "        a = np.abs(acc)\n",
    "    else:\n",
    "        a = -np.abs(acc)\n",
    "\n",
    "    t1 = (a*tex - (a*(a*(tex**2) + 2*tex*vi - 2*d))**0.5) / a\n",
    "    t2 = (a*tex + (a*(a*(tex**2) + 2*tex*vi - 2*d))**0.5) / a\n",
    "    \n",
    "    recalD1 = vi*t1 + (a*t1**2)/2 + (vi + a*t1)*(tex-t1)\n",
    "    recalD2 = vi*t2 + (a*t2**2)/2 + (vi + a*t2)*(tex-t2)\n",
    "    \n",
    "    return t1, t2, recalD1, recalD2"
   ]
  },
  {
   "cell_type": "code",
   "execution_count": 3,
   "metadata": {},
   "outputs": [
    {
     "name": "stdout",
     "output_type": "stream",
     "text": [
      "0.6191684803531405 19.38083151964686 4.999999999999998 5.0\n"
     ]
    }
   ],
   "source": [
    "acc = 0.5\n",
    "vi = 0.2\n",
    "d = 5\n",
    "tex = 10\n",
    "\n",
    "t1, t2, recalD1, recalD2 = calTi(acc, vi, d, tex)\n",
    "print(t1, t2, recalD1, recalD2)"
   ]
  },
  {
   "cell_type": "code",
   "execution_count": 26,
   "metadata": {},
   "outputs": [],
   "source": [
    "ai, vi, ti, vc, tc, af, tf, d, T = symbols('ai vi ti vc tc af tf d t')"
   ]
  },
  {
   "cell_type": "code",
   "execution_count": 5,
   "metadata": {},
   "outputs": [],
   "source": [
    "d = vi*ti + (ai*ti**2)/2 + (vi + ai*ti)*(T - ti - (vi + ai*ti)/af) + (vi + ai*ti)*((vi + ai*ti)/af) + (af*((vi + ai*ti)/af)**2)/2"
   ]
  },
  {
   "cell_type": "code",
   "execution_count": null,
   "metadata": {},
   "outputs": [],
   "source": [
    "vi*ti + (ai*ti**2)/2 + (vi + ai*ti)*(T - ti - (vi + ai*ti)/af) + (vi + ai*ti)*((vi + ai*ti)/af) + (af*((vi + ai*ti)/af)**2)/2 - d"
   ]
  },
  {
   "cell_type": "code",
   "execution_count": 27,
   "metadata": {},
   "outputs": [
    {
     "data": {
      "text/latex": [
       "$\\displaystyle \\left\\{\\frac{af t - vi}{af + ai} - \\frac{\\sqrt{af ai \\left(af ai t^{2} - 2 af d + 2 af t vi - 2 ai d - vi^{2}\\right)}}{ai \\left(af + ai\\right)}, \\frac{af t - vi}{af + ai} + \\frac{\\sqrt{af ai \\left(af ai t^{2} - 2 af d + 2 af t vi - 2 ai d - vi^{2}\\right)}}{ai \\left(af + ai\\right)}\\right\\}$"
      ],
      "text/plain": [
       "FiniteSet((af*t - vi)/(af + ai) + sqrt(af*ai*(af*ai*t**2 - 2*af*d + 2*af*t*vi - 2*ai*d - vi**2))/(ai*(af + ai)), (af*t - vi)/(af + ai) - sqrt(af*ai*(af*ai*t**2 - 2*af*d + 2*af*t*vi - 2*ai*d - vi**2))/(ai*(af + ai)))"
      ]
     },
     "execution_count": 27,
     "metadata": {},
     "output_type": "execute_result"
    }
   ],
   "source": [
    "solveset(Eq(vi*ti + (ai*ti**2)/2 + (vi + ai*ti)*(T - ti - (vi + ai*ti)/af) + (af*((vi + ai*ti)/af)**2)/2 - d, 0), ti)"
   ]
  },
  {
   "cell_type": "code",
   "execution_count": 28,
   "metadata": {},
   "outputs": [],
   "source": [
    "def calTi2(acc, vi, d, T):\n",
    "    vm = d/T\n",
    "    if vm > vi:\n",
    "        ai = np.abs(acc)\n",
    "    else:\n",
    "        ai = -np.abs(acc)\n",
    "    \n",
    "    af = np.abs(acc)\n",
    "    Term1 = (af * T - vi) / (af + ai)\n",
    "    Term2Num = (af * ai * (af * ai * T**2 - 2 * af * d + 2 * af * vi * T - 2 * ai * d - vi**2))**0.5\n",
    "    Term2Den = ai * (ai + af)\n",
    "    \n",
    "    t1 = Term1 - Term2Num/Term2Den\n",
    "    t2 = Term1 + Term2Num/Term2Den\n",
    "    \n",
    "    ti = t1\n",
    "    recalD1 = vi*ti + (ai*ti**2)/2 + (vi + ai*ti)*(T - ti - (vi + ai*ti)/af) + (af*((vi + ai*ti)/af)**2)/2\n",
    "    ti = t2\n",
    "    recalD2 = vi*ti + (ai*ti**2)/2 + (vi + ai*ti)*(T - ti - (vi + ai*ti)/af) + (af*((vi + ai*ti)/af)**2)/2\n",
    "    \n",
    "    return t1, t2, recalD1, recalD2"
   ]
  },
  {
   "cell_type": "code",
   "execution_count": 29,
   "metadata": {},
   "outputs": [
    {
     "name": "stdout",
     "output_type": "stream",
     "text": [
      "inf nan nan nan\n"
     ]
    },
    {
     "name": "stderr",
     "output_type": "stream",
     "text": [
      "<ipython-input-28-c90d18134012>:9: RuntimeWarning: divide by zero encountered in double_scalars\n",
      "  Term1 = (af * T - vi) / (af + ai)\n",
      "<ipython-input-28-c90d18134012>:13: RuntimeWarning: divide by zero encountered in double_scalars\n",
      "  t1 = Term1 - Term2Num/Term2Den\n",
      "<ipython-input-28-c90d18134012>:14: RuntimeWarning: divide by zero encountered in double_scalars\n",
      "  t2 = Term1 + Term2Num/Term2Den\n",
      "<ipython-input-28-c90d18134012>:14: RuntimeWarning: invalid value encountered in double_scalars\n",
      "  t2 = Term1 + Term2Num/Term2Den\n",
      "<ipython-input-28-c90d18134012>:17: RuntimeWarning: invalid value encountered in double_scalars\n",
      "  recalD1 = vi*ti + (ai*ti**2)/2 + (vi + ai*ti)*(T - ti - (vi + ai*ti)/af) + (af*((vi + ai*ti)/af)**2)/2\n"
     ]
    }
   ],
   "source": [
    "acc = 0.5\n",
    "vi = 1.0\n",
    "d = 7\n",
    "tex = 11\n",
    "\n",
    "t1, t2, recalD1, recalD2 = calTi2(acc, vi, d, tex)\n",
    "print(t1, t2, recalD1, recalD2)"
   ]
  }
 ],
 "metadata": {
  "kernelspec": {
   "display_name": "Python 3",
   "language": "python",
   "name": "python3"
  },
  "language_info": {
   "codemirror_mode": {
    "name": "ipython",
    "version": 3
   },
   "file_extension": ".py",
   "mimetype": "text/x-python",
   "name": "python",
   "nbconvert_exporter": "python",
   "pygments_lexer": "ipython3",
   "version": "3.8.5"
  }
 },
 "nbformat": 4,
 "nbformat_minor": 4
}
