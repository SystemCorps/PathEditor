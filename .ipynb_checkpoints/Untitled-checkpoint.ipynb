{
 "cells": [
  {
   "cell_type": "code",
   "execution_count": 2,
   "metadata": {},
   "outputs": [],
   "source": [
    "import numpy as np"
   ]
  },
  {
   "cell_type": "code",
   "execution_count": 50,
   "metadata": {},
   "outputs": [],
   "source": [
    "def calOthers(ti, acc, vi, d, T):\n",
    "    acc = np.abs(acc)\n",
    "    vm = d/T\n",
    "    if vm > vi:\n",
    "        a = np.abs(acc)\n",
    "    else:\n",
    "        a = -np.abs(acc)\n",
    "    tc = T - ti\n",
    "    vc = vi + a*ti\n",
    "    \n",
    "    di = vi*ti + 0.5*a*ti**2\n",
    "    dc = vc*tc\n",
    "    \n",
    "    recalT = ti + tc\n",
    "    recalD = di + dc\n",
    "    \n",
    "    out = {'Di':di, 'Dc':dc, 'TotalD':recalD,\n",
    "           'ti':ti, 'tc':tc, 'TotalC':recalT,\n",
    "           'Vi':vi, 'Vc':vc}\n",
    "    return out"
   ]
  },
  {
   "cell_type": "code",
   "execution_count": 51,
   "metadata": {},
   "outputs": [],
   "source": [
    "def calTi(acc, vi, d, T):\n",
    "    vm = d/T\n",
    "    if vm > vi:\n",
    "        a = np.abs(acc)\n",
    "    else:\n",
    "        a = -np.abs(acc)\n",
    "\n",
    "    t1 = (a*T - (a*(a*(T**2) + 2*T*vi - 2*d))**0.5) / a\n",
    "    t2 = (a*T + (a*(a*(T**2) + 2*T*vi - 2*d))**0.5) / a\n",
    "    \n",
    "    #recalD1 = vi*t1 + (a*t1**2)/2 + (vi + a*t1)*(T-t1)\n",
    "    #recalD2 = vi*t2 + (a*t2**2)/2 + (vi + a*t2)*(T-t2)\n",
    "    \n",
    "    res1 = calOthers(t1, acc, vi, d, T)\n",
    "    res2 = calOthers(t2, acc, vi, d, T)\n",
    "    \n",
    "    return res1, res2"
   ]
  },
  {
   "cell_type": "code",
   "execution_count": 53,
   "metadata": {},
   "outputs": [
    {
     "name": "stdout",
     "output_type": "stream",
     "text": [
      "{'Di': -78.39949238251683, 'Dc': 83.39949238251683, 'TotalD': 5.0, 'ti': 19.38083151964686, 'tc': -9.380831519646861, 'TotalC': 10.0, 'Vi': 0.8, 'Vc': -8.89041575982343}\n",
      "{'Di': 0.3994923825168081, 'Dc': 4.600507617483194, 'TotalD': 5.000000000000002, 'ti': 0.6191684803531405, 'tc': 9.38083151964686, 'TotalC': 10.0, 'Vi': 0.8, 'Vc': 0.4904157598234298}\n"
     ]
    }
   ],
   "source": [
    "acc = 0.5\n",
    "vi = 0.8\n",
    "d = 5\n",
    "tex = 10\n",
    "\n",
    "res1, res2 = calTi(acc, vi, d, tex)\n",
    "print(res1)\n",
    "print(res2)"
   ]
  },
  {
   "cell_type": "code",
   "execution_count": 42,
   "metadata": {},
   "outputs": [],
   "source": [
    "def calOthers2(ti, acc, vi, d, T):\n",
    "    acc = np.abs(acc)\n",
    "    vm = d/T\n",
    "    \n",
    "    if vm > vi:\n",
    "        ai = acc\n",
    "        vc = vi + ai*ti\n",
    "    else:\n",
    "        ai = -acc\n",
    "        vc = vi + ai*ti\n",
    "    \n",
    "    tf = (vi + ai*ti) / acc\n",
    "    tc = T - ti - tf\n",
    "        \n",
    "    di = vi*ti + 0.5*ai*ti**2\n",
    "    dc = vc * tc\n",
    "    df = 0.5*acc*tf**2\n",
    "    recalD = di + dc + df\n",
    "    \n",
    "    recalT = ti + tc + tf\n",
    "    \n",
    "    out = {'Di':di, 'Dc':dc, 'Df':df, 'TotalD':recalD,\n",
    "           'Ti':ti, 'Tc':tc, 'Tf':tf, 'TotalT':recalT,\n",
    "           'Vi':vi, 'Vc':vc}\n",
    "    \n",
    "    return out"
   ]
  },
  {
   "cell_type": "code",
   "execution_count": 43,
   "metadata": {},
   "outputs": [],
   "source": [
    "def calTi2(acc, vi, d, T):\n",
    "    acc = np.abs(acc)\n",
    "    vm = d/T\n",
    "    \n",
    "    if vm > vi:\n",
    "        ai = acc\n",
    "        term1 = (acc*T - vi)/(2*acc)\n",
    "        term2 = (((acc*T)**2 + 2*acc*vi*T - 4*d*acc - vi**2)**0.5)/(2*acc)\n",
    "        t1 = term1 + term2\n",
    "        t2 = term1 - term2\n",
    "        \n",
    "        res1 = calOthers2(t1, acc, vi, d, T)\n",
    "        #recalD1 = vi*ti + (ai*ti**2)/2 + (vi + ai*ti)*(T - ti - (vi + ai*ti)/acc) + (acc*((vi + ai*ti)/acc)**2)/2\n",
    "        res2 = calOthers2(t2, acc, vi, d, T)\n",
    "        #recalD2 = vi*ti + (ai*ti**2)/2 + (vi + ai*ti)*(T - ti - (vi + ai*ti)/acc) + (acc*((vi + ai*ti)/acc)**2)/2\n",
    "        return res1, res2\n",
    "\n",
    "    else:\n",
    "        ai = -acc\n",
    "        ti = (2*acc*vi*T - 2*d*acc - vi**2) / (2*acc*(acc*T-vi))\n",
    "        \n",
    "        res = calOthers2(ti, acc, vi, d, T)\n",
    "        #recalD = vi*ti + (ai*ti**2)/2 + (vi + ai*ti)*(T - ti - (vi + ai*ti)/acc) + (acc*((vi + ai*ti)/acc)**2)/2\n",
    "        \n",
    "        \n",
    "        return res\n",
    "        "
   ]
  },
  {
   "cell_type": "code",
   "execution_count": 41,
   "metadata": {},
   "outputs": [
    {
     "name": "stdout",
     "output_type": "stream",
     "text": [
      "({'Di': 24.913459633167218, 'Dc': -42.86691926633444, 'Df': 24.95345963316722, 'TotalD': 6.9999999999999964, 'Ti': 9.590687590584988, 'Tc': -8.581375181169976, 'Tf': 9.990687590584988, 'TotalT': 11.0, 'Vi': 0.2, 'Vc': 4.995343795292494}, {'Di': 0.456540366832787, 'Dc': 6.046919266334423, 'Df': 0.4965403668327869, 'TotalD': 6.9999999999999964, 'Ti': 1.0093124094150125, 'Tc': 8.581375181169975, 'Tf': 1.4093124094150125, 'TotalT': 11.0, 'Vi': 0.2, 'Vc': 0.7046562047075062})\n"
     ]
    }
   ],
   "source": [
    "acc = 0.5\n",
    "vi = 0.2\n",
    "d = 7\n",
    "tex = 11\n",
    "\n",
    "res = calTi2(acc, vi, d, tex)\n",
    "print(res)"
   ]
  }
 ],
 "metadata": {
  "kernelspec": {
   "display_name": "Python 3",
   "language": "python",
   "name": "python3"
  },
  "language_info": {
   "codemirror_mode": {
    "name": "ipython",
    "version": 3
   },
   "file_extension": ".py",
   "mimetype": "text/x-python",
   "name": "python",
   "nbconvert_exporter": "python",
   "pygments_lexer": "ipython3",
   "version": "3.8.5"
  }
 },
 "nbformat": 4,
 "nbformat_minor": 4
}
